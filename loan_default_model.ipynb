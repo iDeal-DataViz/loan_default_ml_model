{
 "cells": [
  {
   "cell_type": "code",
   "execution_count": 1,
   "id": "1a59df16-42e6-44d3-8da6-02c342e26f47",
   "metadata": {},
   "outputs": [],
   "source": [
    "# Import necessary libraries\n",
    "import pandas as pd\n",
    "import numpy as np\n",
    "from sklearn.model_selection import train_test_split, StratifiedKFold, cross_val_score\n",
    "from sklearn.preprocessing import StandardScaler, LabelEncoder\n",
    "from sklearn.utils.class_weight import compute_class_weight\n",
    "from imblearn.over_sampling import SMOTE\n",
    "from xgboost import XGBClassifier, plot_importance\n",
    "from sklearn.metrics import classification_report, roc_auc_score, precision_recall_curve\n",
    "import matplotlib.pyplot as plt"
   ]
  },
  {
   "cell_type": "markdown",
   "id": "886f1432-dfd8-4387-b4d8-7508a6c7a104",
   "metadata": {},
   "source": [
    "# Best Machine Learning Approach for Loan Default Prediction\n",
    "## Preprocessing Steps\n",
    "\n",
    "# Handle missing values (imputation or removal).\n",
    "## Encode categorical variables (one-hot encoding or label encoding).\n",
    "## Scale numerical variables to normalize differences in magnitude.\n",
    "# Recommended Models\n",
    "\n",
    "## Gradient Boosting (XGBoost, LightGBM): Works well for structured financial data.\n",
    "## Random Forest: Robust and interpretable with feature importance.\n",
    "## Logistic Regression: A good baseline model for probability estimation.\n",
    "## Neural Networks (if dataset is large and nonlinear patterns exist).\n",
    "# Key Features to Focus On\n",
    "\n",
    "## **Due Amount, Outstanding Amount, CRB Score, Number of Bounced Cheques, Monthly Income, Loan Term, Number of Debit Transactions.**"
   ]
  },
  {
   "cell_type": "code",
   "execution_count": 2,
   "id": "6bbeed9b-2957-48a5-8d84-7e3ec7848121",
   "metadata": {},
   "outputs": [
    {
     "name": "stderr",
     "output_type": "stream",
     "text": [
      "/tmp/ipykernel_7188/2705291266.py:8: DtypeWarning: Columns (26) have mixed types. Specify dtype option on import or set low_memory=False.\n",
      "  for chunk in pd.read_csv(file_path, chunksize=chunk_size):\n"
     ]
    },
    {
     "name": "stdout",
     "output_type": "stream",
     "text": [
      "✅ Dataset Loaded Successfully!\n"
     ]
    }
   ],
   "source": [
    "# -------------------------------------\n",
    "# Load Dataset Efficiently in chunks\n",
    "# -------------------------------------\n",
    "file_path = \"final_merged_df_5p.csv\"\n",
    "chunk_size = 100000\n",
    "\n",
    "data_chunks = []\n",
    "for chunk in pd.read_csv(file_path, chunksize=chunk_size):\n",
    "    data_chunks.append(chunk)\n",
    "\n",
    "merged_df = pd.concat(data_chunks, ignore_index=True)\n",
    "\n",
    "print(\"✅ Dataset Loaded Successfully!\")"
   ]
  },
  {
   "cell_type": "markdown",
   "id": "66f45328-9a1d-491c-a48e-c8e44131a4de",
   "metadata": {},
   "source": [
    "# Step 1: Handle Missing Values"
   ]
  },
  {
   "cell_type": "code",
   "execution_count": 4,
   "id": "f9661b70-227b-4edf-8bc8-2c213292f3fb",
   "metadata": {},
   "outputs": [
    {
     "name": "stdout",
     "output_type": "stream",
     "text": [
      "✅ Missing values handled!\n"
     ]
    }
   ],
   "source": [
    "merged_df = merged_df.dropna(thresh=len(merged_df) * 0.3, axis=1)  # Drop columns with >30% missing values\n",
    "\n",
    "num_cols = merged_df.select_dtypes(include=['float64', 'int64']).columns\n",
    "merged_df[num_cols] = merged_df[num_cols].fillna(merged_df[num_cols].median())  # Fill numerical missing values with median\n",
    "\n",
    "cat_cols = merged_df.select_dtypes(include=['object']).columns\n",
    "for col in cat_cols:\n",
    "    merged_df[col] = merged_df[col].fillna(merged_df[col].mode()[0])  # Fill categorical missing values with mode\n",
    "\n",
    "print(\"✅ Missing values handled!\")"
   ]
  },
  {
   "cell_type": "code",
   "execution_count": 5,
   "id": "a89c307e-3753-4eba-92f0-cbbdc27e80de",
   "metadata": {},
   "outputs": [
    {
     "name": "stdout",
     "output_type": "stream",
     "text": [
      "<class 'pandas.core.frame.DataFrame'>\n",
      "RangeIndex: 584110 entries, 0 to 584109\n",
      "Data columns (total 53 columns):\n",
      " #   Column                                   Non-Null Count   Dtype  \n",
      "---  ------                                   --------------   -----  \n",
      " 0   Application_ID                           584110 non-null  object \n",
      " 1   Key                                      584110 non-null  int64  \n",
      " 2   Loan_Type                                584110 non-null  object \n",
      " 3   Contract_Start_Date                      584110 non-null  object \n",
      " 4   Expected_Contract_End_Date               584110 non-null  object \n",
      " 5   Actual_Contract_End_Date                 584110 non-null  object \n",
      " 6   Loan_Term                                584110 non-null  int64  \n",
      " 7   Total_Loan_Amount                        584110 non-null  float64\n",
      " 8   Snapshot Date                            584110 non-null  object \n",
      " 9   Outstanding Amount                       584110 non-null  float64\n",
      " 10  Due Amount                               584110 non-null  float64\n",
      " 11  Number of Days Past Due                  584110 non-null  float64\n",
      " 12  Contract Status                          584110 non-null  object \n",
      " 13  Application_Date_x                       584110 non-null  object \n",
      " 14  Loan_Approval_Status                     584110 non-null  object \n",
      " 15  Age_at_Application                       584110 non-null  float64\n",
      " 16  Marital_Status                           584110 non-null  object \n",
      " 17  Gender                                   584110 non-null  object \n",
      " 18  Own_Rent_Home                            584110 non-null  object \n",
      " 19  Occupation_Professional_Category         584110 non-null  object \n",
      " 20  Type_of_Business_Industry_of_Employment  584110 non-null  object \n",
      " 21  Employment_Status                        584110 non-null  object \n",
      " 22  Time_at_Current_Employment_(Months)      584110 non-null  float64\n",
      " 23  Number_of_Dependents                     584110 non-null  float64\n",
      " 24  Loan_Purpose                             584110 non-null  object \n",
      " 25  Monthly_Income                           584110 non-null  float64\n",
      " 26  Government_Employee                      584110 non-null  object \n",
      " 27  Application_Date_y                       584110 non-null  object \n",
      " 28  CRB Score                                584110 non-null  int64  \n",
      " 29  CRB Grade                                584110 non-null  object \n",
      " 30  ID                                       584110 non-null  int64  \n",
      " 31  Account_Number                           584110 non-null  object \n",
      " 32  Month (YYYY-MM)                          584110 non-null  object \n",
      " 33  Open Date                                584110 non-null  object \n",
      " 34  Average Balance                          584110 non-null  float64\n",
      " 35  Overdraft Limit                          584110 non-null  float64\n",
      " 36  Number of Days in Debit during Month     584110 non-null  float64\n",
      " 37  Number of Days in Credit during Month    584110 non-null  float64\n",
      " 38  Maximum End of Day Balance               584110 non-null  float64\n",
      " 39  Minimum End of Day Balance               584110 non-null  float64\n",
      " 40  Sum of Monthly Debit Transactions        584110 non-null  float64\n",
      " 41  Sum of Monthly Credit Transactions       584110 non-null  float64\n",
      " 42  Last Transaction Date                    584110 non-null  object \n",
      " 43  Number of ATM Deposits                   584110 non-null  float64\n",
      " 44  Number of ATM Withdrawals                584110 non-null  float64\n",
      " 45  Number of Cheque Debit Transactions      584110 non-null  float64\n",
      " 46  Number of Bounced Cheques                584110 non-null  float64\n",
      " 47  Number of Debit Card POS Transactions    584110 non-null  float64\n",
      " 48  Number of Over the Counter withdrawals   584110 non-null  float64\n",
      " 49  Account Type                             584110 non-null  object \n",
      " 50  Account Status                           584110 non-null  object \n",
      " 51  Number of Joint Holders                  584110 non-null  float64\n",
      " 52  SpshotMonth                              584110 non-null  object \n",
      "dtypes: float64(23), int64(4), object(26)\n",
      "memory usage: 236.2+ MB\n"
     ]
    }
   ],
   "source": [
    "merged_df.info()"
   ]
  },
  {
   "cell_type": "markdown",
   "id": "a818d019-481a-4fde-84a4-9284b07866db",
   "metadata": {},
   "source": [
    "# Step 2: Define Target Variable"
   ]
  },
  {
   "cell_type": "code",
   "execution_count": 46,
   "id": "046e5965-00c3-41f8-9f1e-af3d96c98c45",
   "metadata": {},
   "outputs": [
    {
     "name": "stdout",
     "output_type": "stream",
     "text": [
      "✅ Target variable 'Default' created!\n"
     ]
    }
   ],
   "source": [
    "merged_df['Default'] = merged_df['Number of Days Past Due'].apply(lambda x: 1 if x > 30 else 0)\n",
    "merged_df.drop(columns=['Number of Days Past Due'], inplace=True)  # Prevent data leakage\n",
    "\n",
    "print(\"✅ Target variable 'Default' created!\")"
   ]
  },
  {
   "cell_type": "markdown",
   "id": "cbe62184-d0d2-4b6a-bb6f-712092138d4e",
   "metadata": {},
   "source": [
    "# Step 3: Feature Selection\n"
   ]
  },
  {
   "cell_type": "code",
   "execution_count": 47,
   "id": "79096aaf-83da-4268-a0b4-74bd31879677",
   "metadata": {},
   "outputs": [
    {
     "name": "stdout",
     "output_type": "stream",
     "text": [
      "✅ Feature selection completed! Selected Features: ['Total_Loan_Amount', 'CRB Score', 'Monthly_Income', 'Number of Bounced Cheques', 'Number of Debit Card POS Transactions', 'Loan_Type', 'Employment_Status', 'CRB Grade', 'Marital_Status', 'Gender']\n"
     ]
    }
   ],
   "source": [
    "selected_features = [\n",
    "    'Total_Loan_Amount', 'CRB Score', 'Monthly_Income', \n",
    "    'Number of Bounced Cheques', 'Number of Debit Card POS Transactions'\n",
    "]\n",
    "\n",
    "# Categorical Features\n",
    "selected_features += ['Loan_Type', 'Employment_Status', 'CRB Grade', 'Marital_Status', 'Gender']\n",
    "\n",
    "# Removing leakage features (`Due Amount`, `Outstanding Amount`)\n",
    "merged_df = merged_df[selected_features + ['Default']]\n",
    "\n",
    "print(\"✅ Feature selection completed! Selected Features:\", selected_features)\n"
   ]
  },
  {
   "cell_type": "markdown",
   "id": "d85b63cd-4bd0-4486-9288-4d516f921305",
   "metadata": {},
   "source": [
    "# Step 4: Encoding Categorical Variables"
   ]
  },
  {
   "cell_type": "code",
   "execution_count": 48,
   "id": "0e91a4c3-3504-4593-a060-96027bf6dc94",
   "metadata": {},
   "outputs": [
    {
     "name": "stdout",
     "output_type": "stream",
     "text": [
      "✅ Categorical encoding completed!\n"
     ]
    }
   ],
   "source": [
    "label_encoders = {}\n",
    "for col in merged_df.select_dtypes(include=['object']).columns:\n",
    "    le = LabelEncoder()\n",
    "    merged_df[col] = le.fit_transform(df[col])\n",
    "    label_encoders[col] = le\n",
    "\n",
    "print(\"✅ Categorical encoding completed!\")"
   ]
  },
  {
   "cell_type": "markdown",
   "id": "c9e3bc43-152e-49e4-82fd-7783f1651257",
   "metadata": {},
   "source": [
    "# Splitting Data (Stratified to Maintain Class Balance)"
   ]
  },
  {
   "cell_type": "code",
   "execution_count": 49,
   "id": "b6c3a649-4e55-4f11-b4cc-cec9a3a459d9",
   "metadata": {},
   "outputs": [
    {
     "name": "stdout",
     "output_type": "stream",
     "text": [
      "✅ Dataset split into training and testing sets!\n"
     ]
    }
   ],
   "source": [
    "X = merged_df.drop(columns=['Default'])\n",
    "y = merged_df['Default']\n",
    "\n",
    "X_train, X_test, y_train, y_test = train_test_split(X, y, test_size=0.2, random_state=42, stratify=y)\n",
    "\n",
    "print(\"✅ Dataset split into training and testing sets!\")"
   ]
  },
  {
   "cell_type": "markdown",
   "id": "0b2f85e6-e68d-4cad-b49f-f7a3c8f6d873",
   "metadata": {},
   "source": [
    "# Handle Class Imbalance (SMOTE)"
   ]
  },
  {
   "cell_type": "code",
   "execution_count": 50,
   "id": "6f4fb2df-6e03-4677-a4d1-08366425b2bb",
   "metadata": {},
   "outputs": [
    {
     "name": "stdout",
     "output_type": "stream",
     "text": [
      "✅ SMOTE applied: Balanced class distribution: [434236 434236]\n"
     ]
    }
   ],
   "source": [
    "smote = SMOTE(sampling_strategy='auto', random_state=42)\n",
    "X_train_resampled, y_train_resampled = smote.fit_resample(X_train, y_train)\n",
    "\n",
    "print(\"✅ SMOTE applied: Balanced class distribution:\", np.bincount(y_train_resampled))"
   ]
  },
  {
   "cell_type": "markdown",
   "id": "7e6a8a09-2ddf-4e59-860e-979e88a4e62e",
   "metadata": {},
   "source": [
    "# Step 6: Feature Scaling"
   ]
  },
  {
   "cell_type": "code",
   "execution_count": 51,
   "id": "9e44edaf-0a0d-4e28-8c34-0871e2193c5b",
   "metadata": {},
   "outputs": [
    {
     "name": "stdout",
     "output_type": "stream",
     "text": [
      "✅ Feature scaling applied!\n"
     ]
    }
   ],
   "source": [
    "scaler = StandardScaler()\n",
    "X_train_resampled = scaler.fit_transform(X_train_resampled)\n",
    "X_test = scaler.transform(X_test)\n",
    "\n",
    "print(\"✅ Feature scaling applied!\")"
   ]
  },
  {
   "cell_type": "markdown",
   "id": "80bd06de-7dbc-4585-86cd-ed724c0889f3",
   "metadata": {},
   "source": [
    "# Train the XGBoost Model"
   ]
  },
  {
   "cell_type": "code",
   "execution_count": 52,
   "id": "63f44f90-c4cd-4a41-bb53-2dd3adf9081a",
   "metadata": {},
   "outputs": [
    {
     "name": "stdout",
     "output_type": "stream",
     "text": [
      "✅ Training XGBoost model with optimized parameters...\n"
     ]
    },
    {
     "name": "stderr",
     "output_type": "stream",
     "text": [
      "/home/techvia/anaconda3/lib/python3.12/site-packages/xgboost/training.py:183: UserWarning: [13:22:33] WARNING: /workspace/src/learner.cc:738: \n",
      "Parameters: { \"use_label_encoder\" } are not used.\n",
      "\n",
      "  bst.update(dtrain, iteration=i, fobj=obj)\n"
     ]
    },
    {
     "name": "stdout",
     "output_type": "stream",
     "text": [
      "✅ Model trained successfully!\n"
     ]
    }
   ],
   "source": [
    "# Compute class weights to help with imbalance\n",
    "class_weights = compute_class_weight('balanced', classes=np.unique(y_train_resampled), y=y_train_resampled)\n",
    "scale_pos_weight = class_weights[1] / class_weights[0]\n",
    "\n",
    "# Define XGBoost Model with Optimized Hyperparameters\n",
    "xgb_model = XGBClassifier(\n",
    "    n_estimators=50,          # Reduce trees to prevent overfitting\n",
    "    max_depth=4,              # Shallower trees generalize better\n",
    "    learning_rate=0.05,       # Lower learning rate for stability\n",
    "    reg_lambda=1,             # L2 regularization\n",
    "    reg_alpha=1,              # L1 regularization\n",
    "    scale_pos_weight=scale_pos_weight,  # Adjust for class imbalance\n",
    "    random_state=42,\n",
    "    use_label_encoder=False,\n",
    "    eval_metric='logloss'\n",
    ")\n",
    "\n",
    "print(\"✅ Training XGBoost model with optimized parameters...\")\n",
    "xgb_model.fit(X_train_resampled, y_train_resampled)\n",
    "\n",
    "print(\"✅ Model trained successfully!\")"
   ]
  },
  {
   "cell_type": "markdown",
   "id": "836821ae-4f82-41ad-8ef3-0676f6077594",
   "metadata": {},
   "source": [
    "# Step 8: Model Evaluation"
   ]
  },
  {
   "cell_type": "code",
   "execution_count": 53,
   "id": "6c16d576-32ed-4422-878c-9e5a55c012b6",
   "metadata": {},
   "outputs": [
    {
     "name": "stdout",
     "output_type": "stream",
     "text": [
      "\n",
      "✅ Model Evaluation Metrics:\n",
      "              precision    recall  f1-score   support\n",
      "\n",
      "           0       1.00      0.89      0.94    108559\n",
      "           1       0.39      0.95      0.55      8263\n",
      "\n",
      "    accuracy                           0.89    116822\n",
      "   macro avg       0.69      0.92      0.75    116822\n",
      "weighted avg       0.95      0.89      0.91    116822\n",
      "\n",
      "ROC-AUC Score: 0.9694272633140248\n"
     ]
    }
   ],
   "source": [
    "y_pred = xgb_model.predict(X_test)\n",
    "y_pred_proba = xgb_model.predict_proba(X_test)[:, 1]\n",
    "\n",
    "print(\"\\n✅ Model Evaluation Metrics:\")\n",
    "print(classification_report(y_test, y_pred))\n",
    "print(\"ROC-AUC Score:\", roc_auc_score(y_test, y_pred_proba))"
   ]
  },
  {
   "cell_type": "markdown",
   "id": "1b7031bc-a7dc-400c-bbff-108b86218f96",
   "metadata": {},
   "source": [
    "# Precision-Recall Curve"
   ]
  },
  {
   "cell_type": "code",
   "execution_count": 54,
   "id": "69cb12b4-40b1-40cb-a2f8-8108030e9dfc",
   "metadata": {},
   "outputs": [
    {
     "data": {
      "image/png": "[encoded data removed]",
      "text/plain": [
       "<Figure size 800x600 with 1 Axes>"
      ]
     },
     "metadata": {},
     "output_type": "display_data"
    }
   ],
   "source": [
    "precision, recall, _ = precision_recall_curve(y_test, y_pred_proba)\n",
    "\n",
    "plt.figure(figsize=(8, 6))\n",
    "plt.plot(recall, precision, marker='.', label=\"XGBoost\")\n",
    "plt.xlabel(\"Recall\")\n",
    "plt.ylabel(\"Precision\")\n",
    "plt.title(\"Precision-Recall Curve\")\n",
    "plt.legend()\n",
    "plt.show()"
   ]
  },
  {
   "cell_type": "markdown",
   "id": "46605317-905b-4146-873a-112ba11a43cd",
   "metadata": {},
   "source": [
    "# Feature Importance"
   ]
  },
  {
   "cell_type": "code",
   "execution_count": 55,
   "id": "f0be2304-188a-4280-874c-d1c115d6ae19",
   "metadata": {},
   "outputs": [
    {
     "data": {
      "text/plain": [
       "<Figure size 1200x600 with 0 Axes>"
      ]
     },
     "metadata": {},
     "output_type": "display_data"
    },
    {
     "data": {
      "image/png": "[encoded data removed]",
      "text/plain": [
       "<Figure size 640x480 with 1 Axes>"
      ]
     },
     "metadata": {},
     "output_type": "display_data"
    },
    {
     "name": "stdout",
     "output_type": "stream",
     "text": [
      "✅ Feature importance analysis completed!\n"
     ]
    }
   ],
   "source": [
    "plt.figure(figsize=(12, 6))\n",
    "plot_importance(xgb_model, importance_type='gain', max_num_features=10)\n",
    "plt.title(\"Top 10 Feature Importances (XGBoost)\")\n",
    "plt.show()\n",
    "\n",
    "print(\"✅ Feature importance analysis completed!\")"
   ]
  },
  {
   "cell_type": "code",
   "execution_count": null,
   "id": "10338ecd-bcc1-4c89-8a3c-9f57959d31d5",
   "metadata": {},
   "outputs": [],
   "source": []
  }
 ],
 "metadata": {
  "kernelspec": {
   "display_name": "Python 3 (ipykernel)",
   "language": "python",
   "name": "python3"
  },
  "language_info": {
   "codemirror_mode": {
    "name": "ipython",
    "version": 3
   },
   "file_extension": ".py",
   "mimetype": "text/x-python",
   "name": "python",
   "nbconvert_exporter": "python",
   "pygments_lexer": "ipython3",
   "version": "3.12.7"
  }
 },
 "nbformat": 4,
 "nbformat_minor": 5
}
